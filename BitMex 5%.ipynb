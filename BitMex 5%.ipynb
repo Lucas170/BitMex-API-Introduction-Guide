{
 "cells": [
  {
   "cell_type": "code",
   "execution_count": 4,
   "metadata": {},
   "outputs": [],
   "source": [
    "import bitmex\n",
    "import requests\n",
    "import json\n",
    "import datetime\n",
    "from time import sleep"
   ]
  },
  {
   "cell_type": "code",
   "execution_count": 5,
   "metadata": {},
   "outputs": [
    {
     "name": "stderr",
     "output_type": "stream",
     "text": [
      "C:\\Users\\igorr\\anaconda3\\lib\\site-packages\\swagger_spec_validator\\validator20.py:49: SwaggerValidationWarning: Found \"$ref: #/definitions/UserPreferences\" with siblings that will be overwritten. See https://stackoverflow.com/a/48114924 for more information. (path #/definitions/User/properties/preferences)\n",
      "  warnings.warn(\n"
     ]
    }
   ],
   "source": [
    "bitmex_api_key = 'EeE092m3lwJism5mAFc4plfX' \n",
    "bitmex_api_secret = 'kgRLOsB7QOfauIyyNj5VOvPQ8ueLCuWWxwXTAI4ABcqqEMqk' \n",
    "\n",
    "client = bitmex.bitmex(api_key=bitmex_api_key, api_secret=bitmex_api_secret)"
   ]
  },
  {
   "cell_type": "code",
   "execution_count": 7,
   "metadata": {},
   "outputs": [],
   "source": [
    "symbol = 'ETHUSD'\n",
    "ordType = 'Market'\n",
    "\n",
    "orderQty_Buy = 1 "
   ]
  },
  {
   "cell_type": "code",
   "execution_count": null,
   "metadata": {},
   "outputs": [],
   "source": [
    "while True:\n",
    "    binSize='5m'\n",
    "    start = \\\n",
    "    client.Trade.Trade_getBucketed(binSize=binSize, count=1, symbol='XBTUSD', reverse=True).result()[0][0]\n",
    "    \n",
    "    print(start['open'])\n",
    "    \n",
    "    sleep (300)\n",
    "    \n",
    "    end = \\\n",
    "    client.Trade.Trade_getBucketed(binSize=binSize, count=1, symbol='XBTUSD', reverse=True).result()[0][0]\n",
    "    \n",
    "\n",
    "    print(end['open'])\n",
    "    \n",
    "    percent = int(((end['open'] - start['open']) * 100) / start['open']) \n",
    "    \n",
    "    if percent != 5:\n",
    "        print ('Did not move 5%')\n",
    "        sleep (0.1)\n",
    "        continue \n",
    "        \n",
    "    else:\n",
    "        if percent == 5:\n",
    "            try:\n",
    "                order = client.Order.Order_new(symbol=symbol, ordType=ordType, orderQty=orderQty_Buy).result()\n",
    "                print(order)\n",
    "                print ('Order placed at {}'.format(pd.Timestamp.now()))\n",
    "                break\n",
    "                \n",
    "            except Exception as e:\n",
    "                print(\"Error placing order:\", e)"
   ]
  },
  {
   "cell_type": "code",
   "execution_count": null,
   "metadata": {},
   "outputs": [],
   "source": []
  }
 ],
 "metadata": {
  "kernelspec": {
   "display_name": "Python 3",
   "language": "python",
   "name": "python3"
  },
  "language_info": {
   "codemirror_mode": {
    "name": "ipython",
    "version": 3
   },
   "file_extension": ".py",
   "mimetype": "text/x-python",
   "name": "python",
   "nbconvert_exporter": "python",
   "pygments_lexer": "ipython3",
   "version": "3.8.3"
  }
 },
 "nbformat": 4,
 "nbformat_minor": 4
}
