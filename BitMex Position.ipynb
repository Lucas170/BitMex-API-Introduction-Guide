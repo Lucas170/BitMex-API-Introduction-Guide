{
 "cells": [
  {
   "cell_type": "code",
   "execution_count": 1,
   "metadata": {},
   "outputs": [],
   "source": [
    "import bitmex\n",
    "import requests\n",
    "import json\n",
    "import datetime"
   ]
  },
  {
   "cell_type": "code",
   "execution_count": 2,
   "metadata": {},
   "outputs": [
    {
     "name": "stderr",
     "output_type": "stream",
     "text": [
      "C:\\Users\\igorr\\anaconda3\\lib\\site-packages\\swagger_spec_validator\\validator20.py:49: SwaggerValidationWarning: Found \"$ref: #/definitions/UserPreferences\" with siblings that will be overwritten. See https://stackoverflow.com/a/48114924 for more information. (path #/definitions/User/properties/preferences)\n",
      "  warnings.warn(\n"
     ]
    }
   ],
   "source": [
    "bitmex_api_key = 'EeE092m3lwJism5mAFc4plfX' \n",
    "bitmex_api_secret = 'kgRLOsB7QOfauIyyNj5VOvPQ8ueLCuWWxwXTAI4ABcqqEMqk' \n",
    "\n",
    "client = bitmex.bitmex(api_key=bitmex_api_key, api_secret=bitmex_api_secret)"
   ]
  },
  {
   "cell_type": "code",
   "execution_count": 3,
   "metadata": {},
   "outputs": [
    {
     "name": "stderr",
     "output_type": "stream",
     "text": [
      "C:\\Users\\igorr\\anaconda3\\lib\\site-packages\\bravado_core\\spec.py:462: Warning: JSON format is not registered with bravado-core!\n",
      "  warnings.warn(\n"
     ]
    },
    {
     "data": {
      "text/plain": [
       "([{'account': 328274,\n",
       "   'symbol': 'XBTUSD',\n",
       "   'currency': 'XBt',\n",
       "   'underlying': 'XBT',\n",
       "   'quoteCurrency': 'USD',\n",
       "   'commission': 0.00075,\n",
       "   'initMarginReq': 0.1,\n",
       "   'maintMarginReq': 0.0035,\n",
       "   'riskLimit': 20000000000,\n",
       "   'leverage': 10.0,\n",
       "   'crossMargin': False,\n",
       "   'deleveragePercentile': 0.0,\n",
       "   'rebalancedPnl': 0,\n",
       "   'prevRealisedPnl': -106,\n",
       "   'prevUnrealisedPnl': 0,\n",
       "   'prevClosePrice': 14731.21,\n",
       "   'openingTimestamp': datetime.datetime(2020, 11, 5, 18, 0, tzinfo=tzutc()),\n",
       "   'openingQty': 0,\n",
       "   'openingCost': 0,\n",
       "   'openingComm': 0,\n",
       "   'openOrderBuyQty': 0,\n",
       "   'openOrderBuyCost': 0,\n",
       "   'openOrderBuyPremium': 0,\n",
       "   'openOrderSellQty': 0,\n",
       "   'openOrderSellCost': 0,\n",
       "   'openOrderSellPremium': 0,\n",
       "   'execBuyQty': 0,\n",
       "   'execBuyCost': 0,\n",
       "   'execSellQty': 0,\n",
       "   'execSellCost': 0,\n",
       "   'execQty': 0,\n",
       "   'execCost': 0,\n",
       "   'execComm': 0,\n",
       "   'currentTimestamp': datetime.datetime(2020, 11, 5, 18, 0, 0, 55000, tzinfo=tzutc()),\n",
       "   'currentQty': 0,\n",
       "   'currentCost': 0,\n",
       "   'currentComm': 0,\n",
       "   'realisedCost': 0,\n",
       "   'unrealisedCost': 0,\n",
       "   'grossOpenCost': 0,\n",
       "   'grossOpenPremium': 0,\n",
       "   'grossExecCost': 0,\n",
       "   'isOpen': False,\n",
       "   'markPrice': 0.0,\n",
       "   'markValue': 0,\n",
       "   'riskValue': 0,\n",
       "   'homeNotional': 0.0,\n",
       "   'foreignNotional': 0.0,\n",
       "   'posState': '',\n",
       "   'posCost': 0,\n",
       "   'posCost2': 0,\n",
       "   'posCross': 0,\n",
       "   'posInit': 0,\n",
       "   'posComm': 0,\n",
       "   'posLoss': 0,\n",
       "   'posMargin': 0,\n",
       "   'posMaint': 0,\n",
       "   'posAllowance': 0,\n",
       "   'taxableMargin': 0,\n",
       "   'initMargin': 0,\n",
       "   'maintMargin': 0,\n",
       "   'sessionMargin': 0,\n",
       "   'targetExcessMargin': 0,\n",
       "   'varMargin': 0,\n",
       "   'realisedGrossPnl': 0,\n",
       "   'realisedTax': 0,\n",
       "   'realisedPnl': 0,\n",
       "   'unrealisedGrossPnl': 0,\n",
       "   'longBankrupt': 0,\n",
       "   'shortBankrupt': 0,\n",
       "   'taxBase': 0,\n",
       "   'indicativeTaxRate': 0.0,\n",
       "   'indicativeTax': 0,\n",
       "   'unrealisedTax': 0,\n",
       "   'unrealisedPnl': 0,\n",
       "   'unrealisedPnlPcnt': 0.0,\n",
       "   'unrealisedRoePcnt': 0.0,\n",
       "   'simpleQty': 0.0,\n",
       "   'simpleCost': 0.0,\n",
       "   'simpleValue': 0.0,\n",
       "   'simplePnl': 0.0,\n",
       "   'simplePnlPcnt': 0.0,\n",
       "   'avgCostPrice': 0.0,\n",
       "   'avgEntryPrice': 0.0,\n",
       "   'breakEvenPrice': 0.0,\n",
       "   'marginCallPrice': 0.0,\n",
       "   'liquidationPrice': 0.0,\n",
       "   'bankruptPrice': 0.0,\n",
       "   'timestamp': datetime.datetime(2020, 11, 5, 18, 0, 0, 55000, tzinfo=tzutc()),\n",
       "   'lastPrice': 0.0,\n",
       "   'lastValue': 0}],\n",
       " <bravado.requests_client.RequestsResponseAdapter at 0x193f3724dc0>)"
      ]
     },
     "execution_count": 3,
     "metadata": {},
     "output_type": "execute_result"
    }
   ],
   "source": [
    "client.Position.Position_get(filter=json.dumps({'symbol': 'XBTUSD'})).result()"
   ]
  }
 ],
 "metadata": {
  "kernelspec": {
   "display_name": "Python 3",
   "language": "python",
   "name": "python3"
  },
  "language_info": {
   "codemirror_mode": {
    "name": "ipython",
    "version": 3
   },
   "file_extension": ".py",
   "mimetype": "text/x-python",
   "name": "python",
   "nbconvert_exporter": "python",
   "pygments_lexer": "ipython3",
   "version": "3.8.3"
  }
 },
 "nbformat": 4,
 "nbformat_minor": 4
}
