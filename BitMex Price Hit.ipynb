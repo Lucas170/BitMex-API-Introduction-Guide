{
 "cells": [
  {
   "cell_type": "code",
   "execution_count": 1,
   "metadata": {},
   "outputs": [],
   "source": [
    "import bitmex\n",
    "import requests\n",
    "import json\n",
    "import datetime\n",
    "import pandas as pd\n",
    "from time import sleep"
   ]
  },
  {
   "cell_type": "code",
   "execution_count": 2,
   "metadata": {},
   "outputs": [
    {
     "name": "stderr",
     "output_type": "stream",
     "text": [
      "C:\\Users\\igorr\\anaconda3\\lib\\site-packages\\swagger_spec_validator\\validator20.py:49: SwaggerValidationWarning: Found \"$ref: #/definitions/UserPreferences\" with siblings that will be overwritten. See https://stackoverflow.com/a/48114924 for more information. (path #/definitions/User/properties/preferences)\n",
      "  warnings.warn(\n"
     ]
    }
   ],
   "source": [
    "bitmex_api_key = 'EeE092m3lwJism5mAFc4plfX' \n",
    "bitmex_api_secret = 'kgRLOsB7QOfauIyyNj5VOvPQ8ueLCuWWxwXTAI4ABcqqEMqk' \n",
    "\n",
    "client = bitmex.bitmex(api_key=bitmex_api_key, api_secret=bitmex_api_secret)"
   ]
  },
  {
   "cell_type": "code",
   "execution_count": 3,
   "metadata": {},
   "outputs": [
    {
     "name": "stderr",
     "output_type": "stream",
     "text": [
      "C:\\Users\\igorr\\anaconda3\\lib\\site-packages\\bravado_core\\spec.py:462: Warning: JSON format is not registered with bravado-core!\n",
      "  warnings.warn(\n"
     ]
    }
   ],
   "source": [
    "positions = client.Position.Position_get(filter=json.dumps({\"symbol\": 'XBTUSD'})).result()[0][0]\n",
    "processed_position = {}\n",
    "timestamp_minute = str(positions[\"timestamp\"]).split(':')[0] + \":\" + \\\n",
    "                   str(positions[\"timestamp\"]).split(':')[1] + \":00\"\n",
    "\n",
    "processed_position[\"symbol\"] = positions[\"symbol\"]\n",
    "processed_position[\"timestamp\"] = timestamp_minute\n",
    "processed_position[\"isOpen\"] = positions[\"isOpen\"]\n",
    "processed_position[\"currentQty\"] = positions[\"currentQty\"]\n",
    "processed_position[\"leverage\"] = positions[\"leverage\"]\n",
    "processed_position[\"markPrice\"] = positions[\"markPrice\"]\n",
    "processed_position[\"prevClosePrice\"] = positions[\"prevClosePrice\"]"
   ]
  },
  {
   "cell_type": "code",
   "execution_count": 4,
   "metadata": {},
   "outputs": [
    {
     "data": {
      "text/plain": [
       "34089.59"
      ]
     },
     "execution_count": 4,
     "metadata": {},
     "output_type": "execute_result"
    }
   ],
   "source": [
    "processed_position['markPrice']"
   ]
  },
  {
   "cell_type": "code",
   "execution_count": 5,
   "metadata": {},
   "outputs": [],
   "source": [
    "symbol = 'ETHUSD'\n",
    "ordType = 'Market'\n",
    "\n",
    "orderQty_Buy = 100 "
   ]
  },
  {
   "cell_type": "code",
   "execution_count": 6,
   "metadata": {},
   "outputs": [
    {
     "name": "stdout",
     "output_type": "stream",
     "text": [
      "({'orderID': 'f3b14f3c-58f9-4deb-ac92-990e1e7a9273', 'clOrdID': '', 'clOrdLinkID': '', 'account': 328274, 'symbol': 'ETHUSD', 'side': 'Buy', 'simpleOrderQty': None, 'orderQty': 1, 'price': 822.0, 'displayQty': None, 'stopPx': None, 'pegOffsetValue': None, 'pegPriceType': '', 'currency': 'USD', 'settlCurrency': 'XBt', 'ordType': 'Market', 'timeInForce': 'ImmediateOrCancel', 'execInst': '', 'contingencyType': '', 'exDestination': 'XBME', 'ordStatus': 'Filled', 'triggered': '', 'workingIndicator': False, 'ordRejReason': '', 'simpleLeavesQty': None, 'leavesQty': 0, 'simpleCumQty': None, 'cumQty': 1, 'avgPx': 822.0, 'multiLegReportingType': 'SingleSecurity', 'text': 'Submitted via API.', 'transactTime': datetime.datetime(2021, 1, 3, 11, 14, 48, 126000, tzinfo=tzutc()), 'timestamp': datetime.datetime(2021, 1, 3, 11, 14, 48, 126000, tzinfo=tzutc())}, <bravado.requests_client.RequestsResponseAdapter object at 0x000001EC86415A00>)\n",
      "Order placed at 2021-01-03 12:14:48.312978\n"
     ]
    },
    {
     "name": "stderr",
     "output_type": "stream",
     "text": [
      "C:\\Users\\igorr\\anaconda3\\lib\\site-packages\\bravado_core\\spec.py:462: Warning: guid format is not registered with bravado-core!\n",
      "  warnings.warn(\n"
     ]
    }
   ],
   "source": [
    "while True:\n",
    "    if processed_position['markPrice'] < 15000:\n",
    "       positions = client.Position.Position_get(filter=json.dumps({\"symbol\": 'XBTUSD'})).result()[0][0]\n",
    "       processed_position = {}\n",
    "       processed_position[\"markPrice\"] = positions[\"markPrice\"]\n",
    "    else:\n",
    "        if processed_position['markPrice'] > 15000:\n",
    "            try:\n",
    "                order = client.Order.Order_new(symbol=symbol, ordType=ordType, orderQty=orderQty_Buy).result()\n",
    "                print(order)\n",
    "                print ('Order placed at {}'.format(pd.Timestamp.now()))\n",
    "                break\n",
    "                \n",
    "            except Exception as e:\n",
    "                print(\"Error placing order:\", e)\n",
    "            \n",
    "    sleep(30)"
   ]
  }
 ],
 "metadata": {
  "kernelspec": {
   "display_name": "Python 3",
   "language": "python",
   "name": "python3"
  },
  "language_info": {
   "codemirror_mode": {
    "name": "ipython",
    "version": 3
   },
   "file_extension": ".py",
   "mimetype": "text/x-python",
   "name": "python",
   "nbconvert_exporter": "python",
   "pygments_lexer": "ipython3",
   "version": "3.8.3"
  }
 },
 "nbformat": 4,
 "nbformat_minor": 4
}
